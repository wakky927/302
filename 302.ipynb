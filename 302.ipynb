{
 "cells": [
  {
   "cell_type": "code",
   "execution_count": 4,
   "id": "77054620-dbaa-4c3c-9abb-7a434496c46d",
   "metadata": {},
   "outputs": [],
   "source": [
    "import os\n",
    "\n",
    "import cv2\n",
    "import numpy as np"
   ]
  },
  {
   "cell_type": "markdown",
   "id": "323871dd-7a3d-457f-b674-8731a53b4aed",
   "metadata": {},
   "source": [
    "- パラメータ"
   ]
  },
  {
   "cell_type": "code",
   "execution_count": 5,
   "id": "e6178ab4-bdb3-4936-a5d3-25d774d72128",
   "metadata": {},
   "outputs": [],
   "source": [
    "super_path = \"/media/lfc/HDD1/M1/\"\n",
    "\n",
    "U = [175, 200, 225]\n",
    "Q = 302\n",
    "file_num = 1002"
   ]
  },
  {
   "cell_type": "markdown",
   "id": "e24ade5d-9c24-44e0-abde-c50296080c45",
   "metadata": {},
   "source": [
    "- リサイズ, 背景作成"
   ]
  },
  {
   "cell_type": "code",
   "execution_count": 6,
   "id": "89afa17e-38e8-460b-851f-3ffb557dee88",
   "metadata": {},
   "outputs": [],
   "source": [
    "p0 = [200, 0]\n",
    "p1 = [1080, 880]\n",
    "\n",
    "for u in U:\n",
    "    dir_path_in = super_path + f\"original/2021_06_07/1/u_{u}_q_{Q}_fps_{u}_ss_600/\"\n",
    "    dir_path_resize = super_path + f\"result/2021_06_07/302/u_{u}_q_{Q}_fps_{u}_ss_600/resize/\"\n",
    "    os.makedirs(dir_path_resize, exist_ok=True)\n",
    "    dir_path_bg = super_path + f\"result/2021_06_07/302/u_{u}_q_{Q}_fps_{u}_ss_600/bg/\"\n",
    "    os.makedirs(dir_path_bg, exist_ok=True)\n",
    "    \n",
    "    bg_img = None\n",
    "    \n",
    "    for i in range(0, file_num):\n",
    "        file_path = dir_path_in + f\"_{i:08}.bmp\"\n",
    "        img = cv2.imread(file_path, 0)\n",
    "        re_img = img[p0[1]:p1[1], p0[0]:p1[0]]\n",
    "        cv2.imwrite(dir_path_resize + f\"_{i:08}.bmp\", re_img)\n",
    "\n",
    "        if i == 0:\n",
    "            bg_img = re_img\n",
    "        else:\n",
    "            bg_img = np.minimum(bg_img, re_img)\n",
    "    \n",
    "    cv2.imwrite(dir_path_bg + f\"bg.bmp\", bg_img)"
   ]
  },
  {
   "cell_type": "markdown",
   "id": "58971f14-36fa-463f-b5b6-72d3388b555a",
   "metadata": {},
   "source": [
    "- 背景差分"
   ]
  },
  {
   "cell_type": "code",
   "execution_count": 8,
   "id": "28caee74-5f01-458e-ad8c-e0673c90e897",
   "metadata": {},
   "outputs": [],
   "source": [
    "for u in U:\n",
    "    dir_path_resize = super_path + f\"result/2021_06_07/302/u_{u}_q_{Q}_fps_{u}_ss_600/resize/\"\n",
    "    dir_path_bg = super_path + f\"result/2021_06_07/302/u_{u}_q_{Q}_fps_{u}_ss_600/bg/\"\n",
    "    dir_path_sub = super_path + f\"result/2021_06_07/302/u_{u}_q_{Q}_fps_{u}_ss_600/sub/\"\n",
    "    os.makedirs(dir_path_sub, exist_ok=True)\n",
    "\n",
    "    bg_img = cv2.imread(dir_path_bg + f\"bg.bmp\", 0)\n",
    "    \n",
    "    for i in range(0, file_num):\n",
    "        file_path = dir_path_resize + f\"_{i:08}.bmp\"\n",
    "        img = cv2.imread(file_path, 0)\n",
    "        sub_img = img - bg_img\n",
    "        cv2.imwrite(dir_path_sub + f\"_{i:08}.bmp\", sub_img)"
   ]
  },
  {
   "cell_type": "markdown",
   "id": "0e3a3924-7881-44c2-82ff-a893b72eb051",
   "metadata": {},
   "source": [
    "- 大津の方法を用いた5値化"
   ]
  },
  {
   "cell_type": "code",
   "execution_count": 13,
   "id": "34052c5e-ebd8-4fba-8991-4666930d86c7",
   "metadata": {},
   "outputs": [],
   "source": [
    "from modules import otsu"
   ]
  },
  {
   "cell_type": "code",
   "execution_count": 14,
   "id": "c7a110e3-271f-49c9-82d4-e31113b8bc5a",
   "metadata": {},
   "outputs": [],
   "source": [
    "th = [14, 41, 80, 139]\n",
    "\n",
    "for u in U:\n",
    "    dir_path_sub = super_path + f\"result/2021_06_07/302/u_{u}_q_{Q}_fps_{u}_ss_600/sub/\"\n",
    "    dir_path_otsu = super_path + f\"result/2021_06_07/302/u_{u}_q_{Q}_fps_{u}_ss_600/otsu/\"\n",
    "    os.makedirs(dir_path_otsu, exist_ok=True)\n",
    "    \n",
    "    for i in range(0, file_num):\n",
    "        file_path = dir_path_sub + f\"_{i:08}.bmp\"\n",
    "        img = cv2.imread(file_path, 0)\n",
    "        otsu_img = otsu.emphasize(img=img, c=3, th=th)\n",
    "        cv2.imwrite(dir_path_otsu + f\"_{i:08}.bmp\", otsu_img)"
   ]
  },
  {
   "cell_type": "code",
   "execution_count": null,
   "id": "b950e851-19ad-4c2c-b44b-83578acf8045",
   "metadata": {},
   "outputs": [],
   "source": []
  }
 ],
 "metadata": {
  "kernelspec": {
   "display_name": "Python 3 (ipykernel)",
   "language": "python",
   "name": "python3"
  },
  "language_info": {
   "codemirror_mode": {
    "name": "ipython",
    "version": 3
   },
   "file_extension": ".py",
   "mimetype": "text/x-python",
   "name": "python",
   "nbconvert_exporter": "python",
   "pygments_lexer": "ipython3",
   "version": "3.8.10"
  }
 },
 "nbformat": 4,
 "nbformat_minor": 5
}
